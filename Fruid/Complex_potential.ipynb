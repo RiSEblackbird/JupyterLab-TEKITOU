{
 "cells": [
  {
   "cell_type": "code",
   "execution_count": 46,
   "metadata": {},
   "outputs": [],
   "source": [
    "import sympy as sp\n",
    "from sympy import * \n",
    "import matplotlib\n",
    "import matplotlib.pyplot as plt"
   ]
  },
  {
   "cell_type": "markdown",
   "metadata": {},
   "source": [
    "---\n",
    "\n",
    "# 複素ポテンシャル (complex potential)\n",
    "$$\n",
    "W = \\varPhi + i\\varPsi ,\n",
    "$$\n",
    "$$\n",
    "z = x + iy\n",
    "$$\n",
    "\n",
    "## 共役複素速度\n",
    "$$\n",
    "w = \\frac{dW}{dz} = u - iv\n",
    "$$\n",
    "\n",
    "---\n",
    "\n",
    "## 一様流 (uniform flow)\n",
    "\n",
    "x - iy複素平面について、x軸と角度αをなす一様流を表す複素ポテンシャルは次式(1)\n",
    "\n",
    "$$\n",
    "W = U e^{-i \\alpha } z \\tag{1}\n",
    "$$\n",
    "\n",
    "---"
   ]
  },
  {
   "cell_type": "code",
   "execution_count": 60,
   "metadata": {},
   "outputs": [
    {
     "name": "stdout",
     "output_type": "stream",
     "text": [
      "U*exp(-I*alpha)\n"
     ]
    },
    {
     "data": {
      "text/latex": [
       "$\\displaystyle U e^{- i \\alpha}$"
      ],
      "text/plain": [
       "U*exp(-I*alpha)"
      ]
     },
     "execution_count": 60,
     "metadata": {},
     "output_type": "execute_result"
    }
   ],
   "source": [
    "# Wをzで微分する\n",
    "U, alpha, z = symbols('U alpha z')\n",
    "W = Function(\"W\")\n",
    "W = U*exp(-I*alpha)*z\n",
    "dWdz = Function(\"dWdz\")\n",
    "dWdz = W.diff(z)\n",
    "\n",
    "w = Function(\"w\")\n",
    "w = dWdz\n",
    "\n",
    "print(w)\n",
    "cancel(w)"
   ]
  },
  {
   "cell_type": "code",
   "execution_count": 59,
   "metadata": {},
   "outputs": [
    {
     "data": {
      "text/latex": [
       "$\\displaystyle U \\left(- i \\sin{\\left(\\alpha \\right)} + \\cos{\\left(\\alpha \\right)}\\right)$"
      ],
      "text/plain": [
       "U*(-I*sin(alpha) + cos(alpha))"
      ]
     },
     "execution_count": 59,
     "metadata": {},
     "output_type": "execute_result"
    }
   ],
   "source": [
    "## ※rewite\n",
    "w.rewrite(exp, sin, cos)"
   ]
  },
  {
   "cell_type": "markdown",
   "metadata": {},
   "source": [
    "---\n",
    "\n",
    "## ( 補足メモ 2019.12.24 )\n",
    "Euler's formula の\n",
    "\n",
    "$$\n",
    "e^{i \\theta } = \\cos{\\theta} + i\\sin{\\theta}\n",
    "$$\n",
    "\n",
    "を用いて指数関数を三角関数で表記したかった。  \n",
    "（後述の過程で複素共役速度の実部と虚部を明示する必要があったため）\n",
    "\n",
    "検索しても日本語の記述が見当たらないため、公式ドキュメントよりrewriteメソッドを発見して解決した。  \n",
    "(https://docs.sympy.org/latest/modules/core.html?highlight=rewrite)  \n",
    "\n",
    "(sorce - https://github.com/sympy/sympy/blob/7f92c96417d066700d096105282d6fe47ea085ef/sympy/core/basic.py#L1751-L1814)\n",
    "\n",
    "\n",
    "---"
   ]
  },
  {
   "cell_type": "code",
   "execution_count": null,
   "metadata": {},
   "outputs": [],
   "source": [
    "つづく..."
   ]
  }
 ],
 "metadata": {
  "kernelspec": {
   "display_name": "Python 3",
   "language": "python",
   "name": "python3"
  },
  "language_info": {
   "codemirror_mode": {
    "name": "ipython",
    "version": 3
   },
   "file_extension": ".py",
   "mimetype": "text/x-python",
   "name": "python",
   "nbconvert_exporter": "python",
   "pygments_lexer": "ipython3",
   "version": "3.7.2"
  }
 },
 "nbformat": 4,
 "nbformat_minor": 4
}
