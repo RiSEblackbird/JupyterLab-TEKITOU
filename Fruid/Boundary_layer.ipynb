{
 "cells": [
  {
   "cell_type": "code",
   "execution_count": 3,
   "metadata": {},
   "outputs": [],
   "source": [
    "import numpy as np\n",
    "import sympy as sp\n",
    "import matplotlib\n",
    "import matplotlib.pyplot as plt\n",
    "from scipy.integrate import odeint"
   ]
  },
  {
   "cell_type": "markdown",
   "metadata": {},
   "source": [
    "---\n",
    "### 境界層(boundary layer)\n",
    "\n",
    "**排除厚さ (displacement thickness)**$$\n",
    "\\delta^* = \\frac{1}{U}\\int_0^\\infty (U-u)dy \\tag{1}\n",
    "$$\n",
    "\n",
    "**運動量厚さ (momentum thickness)**$$\n",
    "\\theta = \\frac{1}{U^2}\\int_0^\\infty u(U-u)dy \\tag{2}\n",
    "$$\n",
    "\n",
    "**エネルギー厚さ (energy thickness)**$$\n",
    "\\theta^* = \\frac{1}{U^3}\\int_0^\\infty u(U^2-u^2)dy \\tag{3}\n",
    "$$\n",
    "\n",
    "**形状係数 (shape factor)**$$\n",
    "H = \\frac{\\delta^*}{\\theta} \\tag{4}\n",
    "$$\n",
    "\n",
    "U : 主流流速  \n",
    "y : 物体表面からの垂直距離  \n",
    "u : 境界層内の速度分布  \n",
    "\n",
    "---"
   ]
  },
  {
   "cell_type": "markdown",
   "metadata": {},
   "source": [
    "---\n",
    "\n",
    "### Case1\n",
    "境界層内の速度分布が次式で与えられる場合の形状係数Hを求める。\n",
    "$$\n",
    "u = U \\left( \\frac{y}{\\delta} \\right) ^{\\frac{1}{2}}\n",
    "$$\n",
    "\n",
    "---\n",
    "\n",
    "計算上では、積分範囲は y : (0 → δ(境界層の外端)) として行う。"
   ]
  },
  {
   "cell_type": "code",
   "execution_count": 81,
   "metadata": {},
   "outputs": [
    {
     "name": "stdout",
     "output_type": "stream",
     "text": [
      "U*(y/delta)**0.5\n"
     ]
    },
    {
     "data": {
      "image/png": "[encoded data removed]",
      "text/latex": [
       "$\\displaystyle U \\left(\\frac{y}{\\delta}\\right)^{0.5}$"
      ],
      "text/plain": [
       "     0.5\n",
       "  ⎛y⎞   \n",
       "U⋅⎜─⎟   \n",
       "  ⎝δ⎠   "
      ]
     },
     "execution_count": 81,
     "metadata": {},
     "output_type": "execute_result"
    }
   ],
   "source": [
    "sp.init_printing()\n",
    "\n",
    "# 変数を定義\n",
    "y, U, delta = sp.symbols('y U delta')\n",
    "\n",
    "# 速度関数 u(y) の定義\n",
    "u = sp.Function(\"u\")\n",
    "u = U * (y / delta)**(1/2)\n",
    "\n",
    "print(u)\n",
    "sp.cancel(u)"
   ]
  },
  {
   "cell_type": "code",
   "execution_count": 82,
   "metadata": {},
   "outputs": [
    {
     "name": "stdout",
     "output_type": "stream",
     "text": [
      "0.333333333333333*delta\n"
     ]
    },
    {
     "data": {
      "image/png": "[encoded data removed]",
      "text/latex": [
       "$\\displaystyle 0.333333333333333 \\delta$"
      ],
      "text/plain": [
       "0.333333333333333⋅δ"
      ]
     },
     "execution_count": 82,
     "metadata": {},
     "output_type": "execute_result"
    }
   ],
   "source": [
    "# 排除厚さ delta_star(y) を定義\n",
    "delta_star = sp.Function(\"delta_star\")\n",
    "delta_star = (1 / U) * sp.integrate(( U - u ), (y, 0, delta))\n",
    "\n",
    "print(delta_star)\n",
    "sp.cancel(delta_star)"
   ]
  },
  {
   "cell_type": "code",
   "execution_count": 83,
   "metadata": {},
   "outputs": [
    {
     "name": "stdout",
     "output_type": "stream",
     "text": [
      "(0.666666666666667*U*delta**1.5*(1/delta)**0.5 - 0.5*U*delta**2.0*(1/delta)**1.0)/U\n"
     ]
    },
    {
     "data": {
      "image/png": "[encoded data removed]",
      "text/latex": [
       "$\\displaystyle 0.666666666666667 \\delta^{1.5} \\left(\\frac{1}{\\delta}\\right)^{0.5} - 0.5 \\delta^{2.0} \\left(\\frac{1}{\\delta}\\right)^{1.0}$"
      ],
      "text/plain": [
       "                          0.5               1.0\n",
       "                   1.5 ⎛1⎞           2.0 ⎛1⎞   \n",
       "0.666666666666667⋅δ   ⋅⎜─⎟    - 0.5⋅δ   ⋅⎜─⎟   \n",
       "                       ⎝δ⎠               ⎝δ⎠   "
      ]
     },
     "execution_count": 83,
     "metadata": {},
     "output_type": "execute_result"
    }
   ],
   "source": [
    "# 運動量厚さ theta(y) を定義\n",
    "theta = sp.Function(\"theta\")\n",
    "theta = (1 / U**2) * sp.integrate( u * ( U - u ), (y, 0, delta) )\n",
    "\n",
    "print(theta)\n",
    "sp.cancel(theta)"
   ]
  },
  {
   "cell_type": "code",
   "execution_count": 86,
   "metadata": {},
   "outputs": [
    {
     "name": "stdout",
     "output_type": "stream",
     "text": [
      "0.333333333333333*U*delta/(0.666666666666667*U*delta**1.5*(1/delta)**0.5 - 0.5*U*delta**2.0*(1/delta)**1.0)\n"
     ]
    },
    {
     "data": {
      "image/png": "[encoded data removed]",
      "text/latex": [
       "$\\displaystyle \\frac{0.333333333333333 \\delta}{0.666666666666667 \\delta^{1.5} \\left(\\frac{1}{\\delta}\\right)^{0.5} - 0.5 \\delta^{2.0} \\left(\\frac{1}{\\delta}\\right)^{1.0}}$"
      ],
      "text/plain": [
       "              0.333333333333333⋅δ              \n",
       "───────────────────────────────────────────────\n",
       "                          0.5               1.0\n",
       "                   1.5 ⎛1⎞           2.0 ⎛1⎞   \n",
       "0.666666666666667⋅δ   ⋅⎜─⎟    - 0.5⋅δ   ⋅⎜─⎟   \n",
       "                       ⎝δ⎠               ⎝δ⎠   "
      ]
     },
     "execution_count": 86,
     "metadata": {},
     "output_type": "execute_result"
    }
   ],
   "source": [
    "# 形状係数 H を定義\n",
    "H = sp.Function(\"H\")\n",
    "H = delta_star / theta\n",
    "\n",
    "print(H)\n",
    "sp.cancel(H)"
   ]
  },
  {
   "cell_type": "code",
   "execution_count": 74,
   "metadata": {},
   "outputs": [
    {
     "data": {
      "image/png": "[encoded data removed]",
      "text/latex": [
       "$\\displaystyle 2.00014926952633 \\delta$"
      ],
      "text/plain": [
       "2.00014926952633⋅δ"
      ]
     },
     "execution_count": 74,
     "metadata": {},
     "output_type": "execute_result"
    }
   ],
   "source": [
    "(0.333308291509631 / (0.656691708490369 - 0.49005))*delta"
   ]
  },
  {
   "cell_type": "markdown",
   "metadata": {},
   "source": [
    "---\n",
    "Ans. $$H=2\\delta$$\n",
    "\n",
    "---"
   ]
  },
  {
   "cell_type": "code",
   "execution_count": null,
   "metadata": {},
   "outputs": [],
   "source": []
  }
 ],
 "metadata": {
  "kernelspec": {
   "display_name": "Python 3",
   "language": "python",
   "name": "python3"
  },
  "language_info": {
   "codemirror_mode": {
    "name": "ipython",
    "version": 3
   },
   "file_extension": ".py",
   "mimetype": "text/x-python",
   "name": "python",
   "nbconvert_exporter": "python",
   "pygments_lexer": "ipython3",
   "version": "3.7.2"
  }
 },
 "nbformat": 4,
 "nbformat_minor": 4
}
